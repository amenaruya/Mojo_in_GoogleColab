{
  "nbformat": 4,
  "nbformat_minor": 0,
  "metadata": {
    "colab": {
      "provenance": [],
      "gpuType": "V28"
    },
    "kernelspec": {
      "name": "mojo-jupyter-kernel",
      "display_name": "Mojo"
    },
    "accelerator": "TPU"
  },
  "cells": [
    {
      "cell_type": "markdown",
      "source": [
        "# Mojo 🔥 in colab"
      ],
      "metadata": {
        "id": "2yzoniquSVkd"
      }
    },
    {
      "cell_type": "markdown",
      "source": [
        "## setup"
      ],
      "metadata": {
        "id": "7Cnd7tmrSf99"
      }
    },
    {
      "cell_type": "code",
      "source": [
        "%%shell\n",
        "set -e\n",
        "curl -s https://get.modular.com | sh -\n",
        "modular install mojo"
      ],
      "metadata": {
        "colab": {
          "base_uri": "https://localhost:8080/"
        },
        "id": "rkjU5vfJRe0m",
        "outputId": "eab514f4-e363-43dd-a5f0-0c71c1e46c84"
      },
      "execution_count": 1,
      "outputs": [
        {
          "output_type": "stream",
          "name": "stdout",
          "text": [
            "Executing the  setup script for the 'modular/installer' repository ...\n",
            "\n",
            "\u001b[1K\r\u001b[32m  RUN\u001b[39;49m: Checking for required executable 'curl' ...\u001b[1K\r\u001b[1K\r\u001b[32m   OK\u001b[39;49m: Checking for required executable 'curl' ...\n",
            "\u001b[1K\r\u001b[32m  RUN\u001b[39;49m: Checking for required executable 'apt-get' ...\u001b[1K\r\u001b[1K\r\u001b[32m   OK\u001b[39;49m: Checking for required executable 'apt-get' ...\n",
            "\u001b[1K\r\u001b[32m  RUN\u001b[39;49m: \u001b[1K\r\u001b[1K\r\u001b[32m   OK\u001b[39;49m: Detecting your OS distribution and release using system methods ...\n",
            " ^^^^: ... Detected/provided for your OS/distribution, version and architecture:\n",
            " >>>>:\n",
            " >>>>: ... distro=\u001b[32mubuntu\u001b[39;49m  version=\u001b[32m22.04\u001b[39;49m  codename=\u001b[32mjammy\u001b[39;49m  arch=\u001b[32mx86_64\u001b[39;49m  \n",
            " >>>>:\n",
            "\u001b[41;97m NOPE\u001b[39;49m: Checking for apt dependency 'apt-transport-https' ...\n",
            "\u001b[32m   OK\u001b[39;49m: Updating apt repository metadata cache ...\n",
            "\u001b[32m   OK\u001b[39;49m: Attempting to install 'apt-transport-https' ...\n",
            "\u001b[32m   OK\u001b[39;49m: Checking for apt dependency 'ca-certificates' ...\n",
            "\u001b[32m   OK\u001b[39;49m: Checking for apt dependency 'gnupg' ...\n",
            "\u001b[32m   OK\u001b[39;49m: Checking for apt signed-by key support ...\n",
            "\u001b[32m   OK\u001b[39;49m: Importing 'modular/installer' repository GPG keys ...\n",
            "\u001b[32m   OK\u001b[39;49m: Checking if upstream install config is OK ...\n",
            "\u001b[32m   OK\u001b[39;49m: Installing 'modular/installer' repository via apt ...\n",
            "\u001b[32m   OK\u001b[39;49m: Updating apt repository metadata cache ...\n",
            "\u001b[32m   OK\u001b[39;49m: The repository has been installed successfully - You're ready to rock!\n",
            "\n",
            "Reading package lists...\n",
            "Building dependency tree...\n",
            "Reading state information...\n",
            "The following additional packages will be installed:\n",
            "  python3-pip python3-pip-whl python3-setuptools python3-setuptools-whl python3-venv python3-wheel\n",
            "  python3.10-venv\n",
            "Suggested packages:\n",
            "  python-setuptools-doc\n",
            "The following NEW packages will be installed:\n",
            "  modular python3-pip python3-pip-whl python3-setuptools python3-setuptools-whl python3-venv\n",
            "  python3-wheel python3.10-venv\n",
            "0 upgraded, 8 newly installed, 0 to remove and 45 not upgraded.\n",
            "Need to get 56.1 MB of archives.\n",
            "After this operation, 11.9 MB of additional disk space will be used.\n",
            "Get:1 http://archive.ubuntu.com/ubuntu jammy-updates/main amd64 python3-setuptools all 59.6.0-1.2ubuntu0.22.04.1 [339 kB]\n",
            "Get:2 http://archive.ubuntu.com/ubuntu jammy-updates/universe amd64 python3-wheel all 0.37.1-2ubuntu0.22.04.1 [32.0 kB]\n",
            "Get:3 http://archive.ubuntu.com/ubuntu jammy-updates/universe amd64 python3-pip all 22.0.2+dfsg-1ubuntu0.4 [1,305 kB]\n",
            "Get:4 http://archive.ubuntu.com/ubuntu jammy-updates/universe amd64 python3-pip-whl all 22.0.2+dfsg-1ubuntu0.4 [1,680 kB]\n",
            "Get:5 http://archive.ubuntu.com/ubuntu jammy-updates/universe amd64 python3-setuptools-whl all 59.6.0-1.2ubuntu0.22.04.1 [788 kB]\n",
            "Get:6 http://archive.ubuntu.com/ubuntu jammy-updates/universe amd64 python3.10-venv amd64 3.10.12-1~22.04.3 [5,716 B]\n",
            "Get:7 http://archive.ubuntu.com/ubuntu jammy-updates/universe amd64 python3-venv amd64 3.10.6-1~22.04 [1,038 B]\n",
            "Get:8 https://dl.modular.com/public/installer/deb/ubuntu jammy/main amd64 modular amd64 0.8.0 [51.9 MB]\n",
            "Fetched 56.1 MB in 1s (41.0 MB/s)\n",
            "Selecting previously unselected package python3-setuptools.\n",
            "(Reading database ... 121917 files and directories currently installed.)\n",
            "Preparing to unpack .../0-python3-setuptools_59.6.0-1.2ubuntu0.22.04.1_all.deb ...\n",
            "Unpacking python3-setuptools (59.6.0-1.2ubuntu0.22.04.1) ...\n",
            "Selecting previously unselected package python3-wheel.\n",
            "Preparing to unpack .../1-python3-wheel_0.37.1-2ubuntu0.22.04.1_all.deb ...\n",
            "Unpacking python3-wheel (0.37.1-2ubuntu0.22.04.1) ...\n",
            "Selecting previously unselected package python3-pip.\n",
            "Preparing to unpack .../2-python3-pip_22.0.2+dfsg-1ubuntu0.4_all.deb ...\n",
            "Unpacking python3-pip (22.0.2+dfsg-1ubuntu0.4) ...\n",
            "Selecting previously unselected package python3-pip-whl.\n",
            "Preparing to unpack .../3-python3-pip-whl_22.0.2+dfsg-1ubuntu0.4_all.deb ...\n",
            "Unpacking python3-pip-whl (22.0.2+dfsg-1ubuntu0.4) ...\n",
            "Selecting previously unselected package python3-setuptools-whl.\n",
            "Preparing to unpack .../4-python3-setuptools-whl_59.6.0-1.2ubuntu0.22.04.1_all.deb ...\n",
            "Unpacking python3-setuptools-whl (59.6.0-1.2ubuntu0.22.04.1) ...\n",
            "Selecting previously unselected package python3.10-venv.\n",
            "Preparing to unpack .../5-python3.10-venv_3.10.12-1~22.04.3_amd64.deb ...\n",
            "Unpacking python3.10-venv (3.10.12-1~22.04.3) ...\n",
            "Selecting previously unselected package python3-venv.\n",
            "Preparing to unpack .../6-python3-venv_3.10.6-1~22.04_amd64.deb ...\n",
            "Unpacking python3-venv (3.10.6-1~22.04) ...\n",
            "Selecting previously unselected package modular.\n",
            "Preparing to unpack .../7-modular_0.8.0_amd64.deb ...\n",
            "Unpacking modular (0.8.0) ...\n",
            "Setting up python3-setuptools-whl (59.6.0-1.2ubuntu0.22.04.1) ...\n",
            "Setting up python3-setuptools (59.6.0-1.2ubuntu0.22.04.1) ...\n",
            "Setting up python3-pip-whl (22.0.2+dfsg-1ubuntu0.4) ...\n",
            "Setting up python3-wheel (0.37.1-2ubuntu0.22.04.1) ...\n",
            "Setting up python3-pip (22.0.2+dfsg-1ubuntu0.4) ...\n",
            "Setting up python3.10-venv (3.10.12-1~22.04.3) ...\n",
            "Setting up python3-venv (3.10.6-1~22.04) ...\n",
            "Setting up modular (0.8.0) ...\n",
            "Processing triggers for man-db (2.10.2-1) ...\n",
            "  __  __           _       _\n",
            " |  \\/  | ___   __| |_   _| | __ _ _ __\n",
            " | |\\/| |/ _ \\ / _` | | | | |/ _` | '__|\n",
            " | |  | | (_) | (_| | |_| | | (_| | |\n",
            " |_|  |_|\\___/ \\__,_|\\__,_|_|\\__,_|_|\n",
            "\n",
            "Welcome to the Modular CLI!\n",
            "\n",
            "To get started, see:\n",
            "MAX - https://modul.ar/get-started\n",
            "Mojo - https://modul.ar/mojo-get-started\n",
            "\n",
            "For info about this tool, type \"modular --help\".\n",
            "# Found release for https://packages.modular.com/mojo @ 24.4.0\n",
            "# Downloading archive: packages/24.4.0/mojo-x86_64-unknown-linux-gnu-24.4.0-14-0.tar.zst\n",
            "Downloaded           [ \u001b[0;32m█████\u001b[0m ] 100% 100MiB/100MiB                 \n",
            "# Extracting downloaded archives. \n",
            "Extracted            [ \u001b[0;94m█████\u001b[0m ] 100% 100MiB/100MiB                 \n",
            "# Running post-install scripts...\n",
            "Installed            [ \u001b[0;97m█████\u001b[0m ] 100%                               \n",
            "🔥 Mojo installed! 🔥\n",
            "\n",
            "Mojo's Python virtual environment created at /root/.modular/pkg/packages.modular.com_mojo/venv\n",
            "\n",
            "If you are using ZSH (default on macOS), run the following commands:\n",
            "\n",
            "echo 'export MODULAR_HOME=\"/root/.modular\"' >> ~/.zshrc\n",
            "echo 'export PATH=\"/root/.modular/pkg/packages.modular.com_mojo/bin:$PATH\"' >> ~/.zshrc\n",
            "source ~/.zshrc\n",
            "\n",
            "If you are using bash, run the following commands:\n",
            "\n",
            "BASHRC=$( [ -f \"$HOME/.bash_profile\" ] && echo \"$HOME/.bash_profile\" || echo \"$HOME/.bashrc\" )\n",
            "echo 'export MODULAR_HOME=\"/root/.modular\"' >> \"$BASHRC\"\n",
            "echo 'export PATH=\"/root/.modular/pkg/packages.modular.com_mojo/bin:$PATH\"' >> \"$BASHRC\"\n",
            "source \"$BASHRC\"\n",
            "\n",
            "Then enter 'mojo' to start the Mojo REPL.\n",
            "\n",
            "For tool help, enter 'mojo --help'.\n",
            "For more docs, see https://docs.modular.com/mojo.\n",
            "\n"
          ]
        },
        {
          "output_type": "execute_result",
          "data": {
            "text/plain": []
          },
          "metadata": {},
          "execution_count": 1
        }
      ]
    },
    {
      "cell_type": "code",
      "source": [
        "!/root/.modular/pkg/packages.modular.com_mojo/bin/mojo --version"
      ],
      "metadata": {
        "colab": {
          "base_uri": "https://localhost:8080/"
        },
        "id": "_RdWNbXPPWlC",
        "outputId": "bf8efc2b-7c40-49bc-e879-aeb06646ce88"
      },
      "execution_count": null,
      "outputs": [
        {
          "output_type": "stream",
          "name": "stdout",
          "text": [
            "mojo 24.4.0 (2cb57382)\n"
          ]
        }
      ]
    },
    {
      "cell_type": "markdown",
      "source": [
        "**Settings:**\n",
        "1. *runtime* tab\n",
        "2. *change runtime type*\n",
        "3. runtime type : *Python* → *Mojo*\n",
        "4. save\n",
        "5. runtime will reload"
      ],
      "metadata": {
        "id": "TFTClu2sSm1s"
      }
    },
    {
      "cell_type": "markdown",
      "source": [
        "## play"
      ],
      "metadata": {
        "id": "X6FAgD2eSjB9"
      }
    },
    {
      "cell_type": "code",
      "source": [
        "fn print_mojo(number: UInt8):\n",
        "    for _ in range(number):\n",
        "        print(\"🔥\", end=\"\")"
      ],
      "metadata": {
        "id": "tTU1NtjmR8a-"
      },
      "execution_count": null,
      "outputs": []
    },
    {
      "cell_type": "code",
      "source": [
        "print_mojo(2)"
      ],
      "metadata": {
        "colab": {
          "base_uri": "https://localhost:8080/"
        },
        "id": "3Twc3F6RSQsW",
        "outputId": "9453edac-9d72-49f0-ed05-1a411ac4bb8e"
      },
      "execution_count": null,
      "outputs": [
        {
          "output_type": "stream",
          "name": "stdout",
          "text": [
            "🔥🔥"
          ]
        }
      ]
    },
    {
      "cell_type": "markdown",
      "source": [
        "## compile"
      ],
      "metadata": {
        "id": "ybJ9B7hrEKXb"
      }
    },
    {
      "cell_type": "markdown",
      "source": [
        "### make file"
      ],
      "metadata": {
        "id": "iTNrrIIBEOrv"
      }
    },
    {
      "cell_type": "code",
      "source": [
        "%%file print_mojo.mojo\n",
        "from sys import argv\n",
        "\n",
        "fn print_mojo(number: UInt8):\n",
        "    for _ in range(number):\n",
        "        print(\"🔥\", end=\"\")\n",
        "\n",
        "fn main():\n",
        "    var args = argv()\n",
        "    var n: UInt8\n",
        "\n",
        "    try:\n",
        "        n = atol(args[1])\n",
        "    except:\n",
        "        n = 1\n",
        "\n",
        "    print_mojo(n)"
      ],
      "metadata": {
        "colab": {
          "base_uri": "https://localhost:8080/"
        },
        "id": "cVEVI060EMg0",
        "outputId": "e241f042-00f6-4f1e-d670-002c4c12ec1f"
      },
      "execution_count": 6,
      "outputs": [
        {
          "output_type": "stream",
          "name": "stdout",
          "text": [
            "Overwriting print_mojo.mojo\n"
          ]
        }
      ]
    },
    {
      "cell_type": "markdown",
      "source": [
        "### build"
      ],
      "metadata": {
        "id": "KgyEl_J0F62u"
      }
    },
    {
      "cell_type": "code",
      "source": [
        "!/root/.modular/pkg/packages.modular.com_mojo/bin/mojo build print_mojo.mojo -o print_mojo.out"
      ],
      "metadata": {
        "id": "aHMdjDsXE6-F"
      },
      "execution_count": 7,
      "outputs": []
    },
    {
      "cell_type": "markdown",
      "source": [
        "### run"
      ],
      "metadata": {
        "id": "y6SaF0lfGCGC"
      }
    },
    {
      "cell_type": "code",
      "source": [
        "!./print_mojo.out 5"
      ],
      "metadata": {
        "colab": {
          "base_uri": "https://localhost:8080/"
        },
        "id": "a_38JziVFA_j",
        "outputId": "1216cdd3-f33c-4e64-c7a2-93525f34c91a"
      },
      "execution_count": 9,
      "outputs": [
        {
          "output_type": "stream",
          "name": "stdout",
          "text": [
            "🔥🔥🔥🔥🔥"
          ]
        }
      ]
    }
  ]
}